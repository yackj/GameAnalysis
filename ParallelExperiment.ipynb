{
 "cells": [
  {
   "cell_type": "code",
   "execution_count": 8,
   "metadata": {
    "collapsed": false
   },
   "outputs": [],
   "source": [
    "from gameanalysis import AGGvalidation as AGGV\n",
    "import os\n",
    "import shutil\n",
    "import numpy as np\n",
    "from subprocess import call\n",
    "import matplotlib.pyplot as plt\n",
    "import json\n",
    "machines = ['parsley', 'cocoa', 'squash', 'cinnamon', 'gale', 'cucumber', 'vinegar', 'chicory']\n",
    "experiment_name = 'Noise1'"
   ]
  },
  {
   "cell_type": "code",
   "execution_count": 9,
   "metadata": {
    "collapsed": false,
    "scrolled": true
   },
   "outputs": [
    {
     "data": {
      "text/plain": [
       "'/scratch/fyang1/GameAnalysis/parallel/Noise1/ex.py'"
      ]
     },
     "execution_count": 9,
     "metadata": {},
     "output_type": "execute_result"
    }
   ],
   "source": [
    "# Create an empty directory to store the experiment input, script, and output files\n",
    "# Caution: Will empty an existing directory\n",
    "directory = '/scratch/fyang1/GameAnalysis/parallel/{}'.format(experiment_name)\n",
    "if not os.path.exists(directory):\n",
    "    os.makedirs(directory)\n",
    "else:\n",
    "    for file in os.listdir(directory):\n",
    "        file_path = os.path.join(directory, file)\n",
    "        os.remove(file_path)\n",
    "shutil.copy('/scratch/fyang1/GameAnalysis/parallel/ex.py', directory)"
   ]
  },
  {
   "cell_type": "code",
   "execution_count": 10,
   "metadata": {
    "collapsed": false
   },
   "outputs": [],
   "source": [
    "def create_work(directory, worklist, num_machines):\n",
    "    nums = np.ones(num_machines, dtype=int) * int(len(worklist) / num_machines)\n",
    "    nums[:len(worklist) % num_machines] += 1\n",
    "    nums = np.cumsum(nums)\n",
    "    works = np.split(worklist, nums)\n",
    "\n",
    "    for i in range(num_machines):\n",
    "        infile_name = os.path.join(directory, '{}.in'.format(i))\n",
    "        f = open(infile_name, 'w')\n",
    "        for params in works[i]:\n",
    "            f.write(str(list(params))+'\\n')\n",
    "        wkfile_name = os.path.join(directory, '{}.wk'.format(i))\n",
    "        f = open(wkfile_name, 'w')\n",
    "        f.write('cd {}\\n. /scratch/fyang1/GameAnalysis/bin/activate\\npython3 ex.py {}'.format(directory, i))"
   ]
  },
  {
   "cell_type": "code",
   "execution_count": 11,
   "metadata": {
    "collapsed": false
   },
   "outputs": [],
   "source": [
    "def create_script(directory, machines):\n",
    "    for i, machine in enumerate(machines):\n",
    "        f = open(os.path.join(directory, '{}.sh'.format(i)), 'w')\n",
    "        f.write('#!/usr/bin/expect -f\\nset timeout -1\\nspawn ssh fyang1@{}\\nexpect \"\\\\$ \"\\nsend \"{}/{}.wk\\\\r\"\\nexpect \"\\\\$ \"\\nsend \"exit\\\\r\"'.format(machine, directory, i))"
   ]
  },
  {
   "cell_type": "code",
   "execution_count": 12,
   "metadata": {
    "collapsed": true
   },
   "outputs": [],
   "source": [
    "def analyze(directory, num_machines):\n",
    "    results = []\n",
    "    for i in range(num_machines):\n",
    "        f = open(os.path.join(directory, '{}.out'.format(i)))\n",
    "        for line in f:\n",
    "            results.append(eval(line))\n",
    "    return np.array(results).T"
   ]
  },
  {
   "cell_type": "code",
   "execution_count": 13,
   "metadata": {
    "collapsed": true
   },
   "outputs": [],
   "source": [
    "def record_results(ret, worklist, name):\n",
    "    ret_T = ret.T\n",
    "    results = []\n",
    "    for i, p in enumerate(worklist):\n",
    "        results.append((dict(zip(['num_players', 'num_facilities', 'num_required', \\\n",
    "                                  'proportion', 'noise', 'samples', 'repetitions'], p)),\\\n",
    "                        dict(zip(['MAE', 'MAPE', 'SMAPE', 'RS_gap', 'AGG_gap'], ret_T[i]))))\n",
    "    f = open('/scratch/fyang1/GameAnalysis/results/{}'.format(name), 'w')\n",
    "    f.write(json.dumps(results))"
   ]
  },
  {
   "cell_type": "code",
   "execution_count": 14,
   "metadata": {
    "collapsed": false,
    "scrolled": false
   },
   "outputs": [
    {
     "name": "stdout",
     "output_type": "stream",
     "text": [
      "[[6 5 2 1 (0, 0.0) 1 50]\n",
      " [6 5 2 1 (0, 0.25) 1 50]\n",
      " [6 5 2 1 (0, 0.5) 1 50]\n",
      " [6 5 2 1 (0, 0.75) 1 50]\n",
      " [6 5 2 1 (0, 1.0) 1 50]\n",
      " [6 5 2 1 (0, 1.25) 1 50]\n",
      " [6 5 2 1 (0, 1.5) 1 50]\n",
      " [6 5 2 1 (0, 1.75) 1 50]\n",
      " [6 5 2 1 (0, 2.0) 1 50]\n",
      " [6 5 2 1 (0, 2.25) 1 50]\n",
      " [6 5 2 1 (0, 2.5) 1 50]\n",
      " [6 5 2 1 (0, 2.75) 1 50]\n",
      " [6 5 2 1 (0, 3.0) 1 50]\n",
      " [6 5 2 1 (0, 3.25) 1 50]\n",
      " [6 5 2 1 (0, 3.5) 1 50]\n",
      " [6 5 2 1 (0, 3.75) 1 50]\n",
      " [6 5 2 1 (0, 4.0) 1 50]\n",
      " [6 5 2 1 (0, 4.25) 1 50]\n",
      " [6 5 2 1 (0, 4.5) 1 50]\n",
      " [6 5 2 1 (0, 4.75) 1 50]]\n"
     ]
    }
   ],
   "source": [
    "worklist = AGGV.noise_experiment([6,5,2], num_reps=50)\n",
    "print(worklist)\n",
    "create_work(directory, worklist, len(machines))\n",
    "create_script(directory, machines)"
   ]
  },
  {
   "cell_type": "code",
   "execution_count": null,
   "metadata": {
    "collapsed": true
   },
   "outputs": [],
   "source": [
    "# To use the scripts:\n",
    "# 1. ssh-add, \n",
    "# 2. chmod 733 *.sh *.wk \n",
    "# 3. for i in *.sh;do; ./$i &; done (run all the .sh files background)"
   ]
  },
  {
   "cell_type": "code",
   "execution_count": 7,
   "metadata": {
    "collapsed": false
   },
   "outputs": [],
   "source": [
    "ret = analyze(directory, len(machines))"
   ]
  },
  {
   "cell_type": "code",
   "execution_count": 28,
   "metadata": {
    "collapsed": false
   },
   "outputs": [],
   "source": [
    "j = record_results(ret, worklist, experiment_name)"
   ]
  },
  {
   "cell_type": "code",
   "execution_count": 11,
   "metadata": {
    "collapsed": false
   },
   "outputs": [],
   "source": [
    "plt.title('GP Pure Strategy Payoff Prediction Accuracy')\n",
    "plt.xlabel('Percentage of Profiles in Original Game used in GP Training (%)')\n",
    "plt.ylabel('Error')\n",
    "l1, = plt.plot(np.arange(0.05, 1.05, 0.05), ret[0])\n",
    "l2, = plt.plot(np.arange(0.05, 1.05, 0.05), ret[1])\n",
    "l3, = plt.plot(np.arange(0.05, 1.05, 0.05), ret[2])\n",
    "plt.legend([l1, l2, l3], ['MAE', 'MAPE', 'SMAPE'])\n",
    "plt.show()"
   ]
  }
 ],
 "metadata": {
  "kernelspec": {
   "display_name": "Python 3",
   "language": "python",
   "name": "python3"
  },
  "language_info": {
   "codemirror_mode": {
    "name": "ipython",
    "version": 3
   },
   "file_extension": ".py",
   "mimetype": "text/x-python",
   "name": "python",
   "nbconvert_exporter": "python",
   "pygments_lexer": "ipython3",
   "version": "3.5.2"
  }
 },
 "nbformat": 4,
 "nbformat_minor": 0
}
